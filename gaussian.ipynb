{
 "cells": [
  {
   "cell_type": "code",
   "execution_count": 221,
   "metadata": {},
   "outputs": [],
   "source": [
    "from math import sqrt, factorial\n",
    "from fractions import Fraction\n",
    "import numpy as np\n",
    "import pandas as pd\n",
    "import matplotlib.pyplot as plt\n",
    "import seaborn as sns\n",
    "from itertools import zip_longest\n",
    "plt.style.use('classic')\n",
    "%matplotlib inline"
   ]
  },
  {
   "cell_type": "code",
   "execution_count": 222,
   "metadata": {},
   "outputs": [
    {
     "data": {
      "image/png": "[encoded data removed]",
      "text/plain": [
       "<Figure size 720x360 with 1 Axes>"
      ]
     },
     "metadata": {},
     "output_type": "display_data"
    }
   ],
   "source": [
    "fig, ax = plt.subplots(figsize=(10, 5))\n",
    "ax.axhline(0, color='tab:gray', lw=1, zorder=0)\n",
    "ax.vlines(0, 0, 1, color='tab:gray', lw=1, zorder=0)\n",
    "\n",
    "x = 1\n",
    "z = np.arange(-5, 5, 0.1)\n",
    "z_plus = np.arange(0, x+0.001, 0.1)\n",
    "\n",
    "u = x/sqrt(2)\n",
    "t = np.arange(-5/sqrt(2), 5/sqrt(2), 0.1)\n",
    "t_plus = np.arange(0, u, 0.1)\n",
    "\n",
    "ax.plot(z, np.exp(-z**2/2), color='red')\n",
    "ax.fill_between(z_plus, 0, np.exp(-z_plus**2/2), color='red', alpha=0.2)\n",
    "ax.arrow(z[-1]-0.1, 0, 0.1, 0, color='red', head_width=0.03, head_length=0.1)\n",
    "ax.text(z[-1]+0.1, -0.1, 'z', color='red', horizontalalignment='center', fontsize=15)\n",
    "ax.scatter(x, 0, color='red')\n",
    "ax.vlines(x, 0, np.exp(-x**2/2), linestyle='--', linewidth=1, color='red')\n",
    "ax.text(x, -0.1, 'x', color='red', horizontalalignment='center', fontsize=15)\n",
    "\n",
    "ax.plot(t, np.exp(-t**2), color='blue')\n",
    "ax.fill_between(t_plus, 0, np.exp(-t_plus**2), color='blue', alpha=0.2)\n",
    "ax.arrow(t[-1]-0.1, 0, 0.1, 0, color='blue', head_width=0.03, head_length=0.1, zorder=10)\n",
    "ax.text(t[-1]+0.1, -0.1, 't', color='blue', horizontalalignment='center', fontsize=15)\n",
    "ax.scatter(u, 0, color='blue')\n",
    "ax.vlines(u, 0, np.exp(-u**2), linestyle='--', linewidth=1, color='blue')\n",
    "ax.text(u, -0.1, 'u', color='blue', horizontalalignment='center', fontsize=15)\n",
    "\n",
    "ax.set_xticks(range(-5, 6))\n",
    "ax.set_yticks(np.arange(0, 1.01, 0.2))\n",
    "\n",
    "ax.text(5, 0.05, r'$\\mathrm{e^{-\\frac{z^{2}}{2}}}$', color='red', fontsize=25, horizontalalignment='center')\n",
    "ax.text(3.5, 0.05, r'$\\mathrm{e^{t^{2}}}$', color='blue', fontsize=25, horizontalalignment='center')\n",
    "plt.show()"
   ]
  },
  {
   "cell_type": "code",
   "execution_count": 184,
   "metadata": {},
   "outputs": [],
   "source": [
    "f = 0\n",
    "f1 = 1"
   ]
  },
  {
   "cell_type": "code",
   "execution_count": 219,
   "metadata": {},
   "outputs": [],
   "source": [
    "def update_p(p, n):\n",
    "    dp = [power * coeff for power, coeff in enumerate(p)][1:]\n",
    "    pf = [0] + p\n",
    "    two_npf = [2*n*coeff for coeff in pf]\n",
    "    return [dp_coeff + two_npf_coeff for dp_coeff, two_npf_coeff in zip_longest(two_npf, dp, fillvalue=0)]"
   ]
  },
  {
   "cell_type": "code",
   "execution_count": 245,
   "metadata": {},
   "outputs": [
    {
     "name": "stdout",
     "output_type": "stream",
     "text": [
      "0\n",
      "1/12\n",
      "0\n",
      "7/480\n",
      "0\n",
      "127/40320\n",
      "0\n",
      "4369/5806080\n"
     ]
    }
   ],
   "source": [
    "p = [0, 2]\n",
    "for n in range(2, 10):\n",
    "    const = p[0]\n",
    "    print(Fraction(const, (factorial(n) * 2**(n-1))))\n",
    "    \n",
    "    p = update_p(p, n)"
   ]
  },
  {
   "cell_type": "code",
   "execution_count": null,
   "metadata": {},
   "outputs": [],
   "source": []
  }
 ],
 "metadata": {
  "kernelspec": {
   "display_name": "Python 3",
   "language": "python",
   "name": "python3"
  },
  "language_info": {
   "codemirror_mode": {
    "name": "ipython",
    "version": 3
   },
   "file_extension": ".py",
   "mimetype": "text/x-python",
   "name": "python",
   "nbconvert_exporter": "python",
   "pygments_lexer": "ipython3",
   "version": "3.6.5"
  }
 },
 "nbformat": 4,
 "nbformat_minor": 2
}
